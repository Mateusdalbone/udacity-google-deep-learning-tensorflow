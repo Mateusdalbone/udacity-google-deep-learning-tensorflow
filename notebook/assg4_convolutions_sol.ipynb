{
 "cells": [
  {
   "cell_type": "markdown",
   "metadata": {
    "colab_type": "text",
    "id": "4embtkV0pNxM"
   },
   "source": [
    "Deep Learning\n",
    "=============\n",
    "\n",
    "Assignment 4 and Solutions\n",
    "------------\n",
    "\n",
    "Previously in [2_fullyconnected.ipynb](./assg2_fullyconnected_sol.ipynb) and [3_regularization.ipynb](./3_regularization.ipynb), we trained fully connected networks to classify [notMNIST](http://yaroslavvb.blogspot.com/2011/09/notmnist-dataset.html) characters.\n",
    "\n",
    "The goal of this assignment is make the neural network convolutional."
   ]
  },
  {
   "cell_type": "code",
   "execution_count": 1,
   "metadata": {
    "collapsed": true
   },
   "outputs": [],
   "source": [
    "# These are all the modules we'll be using later. Make sure you can import them\n",
    "# before proceeding further.\n",
    "from __future__ import print_function\n",
    "import numpy as np\n",
    "import tensorflow as tf\n",
    "from six.moves import cPickle as pickle\n",
    "from six.moves import range"
   ]
  },
  {
   "cell_type": "code",
   "execution_count": 2,
   "metadata": {
    "collapsed": false
   },
   "outputs": [
    {
     "name": "stdout",
     "output_type": "stream",
     "text": [
      "Training set (200000, 28, 28) (200000,)\n",
      "Validation set (10000, 28, 28) (10000,)\n",
      "Test set (10000, 28, 28) (10000,)\n"
     ]
    }
   ],
   "source": [
    "pickle_file = 'notMNIST.pickle'\n",
    "\n",
    "with open(pickle_file, 'rb') as f:\n",
    "    save = pickle.load(f)\n",
    "    train_dataset = save['train_dataset']\n",
    "    train_labels = save['train_labels']\n",
    "    valid_dataset = save['valid_dataset']\n",
    "    valid_labels = save['valid_labels']\n",
    "    test_dataset = save['test_dataset']\n",
    "    test_labels = save['test_labels']\n",
    "    del save  # hint to help gc free up memory\n",
    "    print('Training set', train_dataset.shape, train_labels.shape)\n",
    "    print('Validation set', valid_dataset.shape, valid_labels.shape)\n",
    "    print('Test set', test_dataset.shape, test_labels.shape)"
   ]
  },
  {
   "cell_type": "markdown",
   "metadata": {
    "colab_type": "text",
    "id": "L7aHrm6nGDMB"
   },
   "source": [
    "Reformat into a TensorFlow-friendly shape:\n",
    "- convolutions need the image data formatted as a cube (width by height by #channels)\n",
    "- labels as float 1-hot encodings."
   ]
  },
  {
   "cell_type": "code",
   "execution_count": 3,
   "metadata": {
    "collapsed": false
   },
   "outputs": [
    {
     "name": "stdout",
     "output_type": "stream",
     "text": [
      "Training set (200000, 28, 28, 1) (200000, 10)\n",
      "Validation set (10000, 28, 28, 1) (10000, 10)\n",
      "Test set (10000, 28, 28, 1) (10000, 10)\n"
     ]
    }
   ],
   "source": [
    "IMAGE_SIZE = 28\n",
    "NUM_LABELS = 10\n",
    "NUM_CHANNELS = 1  # Grayscale\n",
    "\n",
    "def reformat(dataset, labels):\n",
    "    dataset = dataset.reshape((-1, IMAGE_SIZE, IMAGE_SIZE, NUM_CHANNELS)).astype(np.float32)\n",
    "    labels = (np.arange(NUM_LABELS) == labels[:, None]).astype(np.float32)\n",
    "    return dataset, labels\n",
    "\n",
    "train_dataset, train_labels = reformat(train_dataset, train_labels)\n",
    "valid_dataset, valid_labels = reformat(valid_dataset, valid_labels)\n",
    "test_dataset, test_labels = reformat(test_dataset, test_labels)\n",
    "print('Training set', train_dataset.shape, train_labels.shape)\n",
    "print('Validation set', valid_dataset.shape, valid_labels.shape)\n",
    "print('Test set', test_dataset.shape, test_labels.shape)"
   ]
  },
  {
   "cell_type": "code",
   "execution_count": 4,
   "metadata": {
    "collapsed": true
   },
   "outputs": [],
   "source": [
    "def accuracy(predictions, labels):\n",
    "    return (100.0 * np.sum(np.argmax(predictions, 1) == np.argmax(labels, 1))\n",
    "            / predictions.shape[0])"
   ]
  },
  {
   "cell_type": "markdown",
   "metadata": {
    "colab_type": "text",
    "id": "5rhgjmROXu2O"
   },
   "source": [
    "Let's build a small network with two convolutional layers, followed by one fully connected layer. Convolutional networks are more expensive computationally, so we'll limit its depth and number of fully connected nodes."
   ]
  },
  {
   "cell_type": "code",
   "execution_count": 5,
   "metadata": {
    "collapsed": true
   },
   "outputs": [],
   "source": [
    "batch_size = 16\n",
    "patch_size = 5\n",
    "depth = 16\n",
    "num_hidden = 64\n",
    "num_steps = 1001"
   ]
  },
  {
   "cell_type": "code",
   "execution_count": 6,
   "metadata": {
    "cellView": "both",
    "colab": {
     "autoexec": {
      "startup": false,
      "wait_interval": 0
     }
    },
    "colab_type": "code",
    "collapsed": false,
    "id": "IZYv70SvvOan"
   },
   "outputs": [],
   "source": [
    "graph = tf.Graph()\n",
    "with graph.as_default():\n",
    "    # Input data.\n",
    "    tf_train_dataset = tf.placeholder(\n",
    "        tf.float32, shape=(batch_size, IMAGE_SIZE, IMAGE_SIZE, NUM_CHANNELS))\n",
    "    tf_train_labels = tf.placeholder(tf.float32, shape=(batch_size, NUM_LABELS))\n",
    "    tf_valid_dataset = tf.constant(valid_dataset)\n",
    "    tf_test_dataset = tf.constant(test_dataset)\n",
    "  \n",
    "    # Variables.\n",
    "    weights_hidden1 = tf.Variable(\n",
    "        tf.truncated_normal([patch_size, patch_size, NUM_CHANNELS, depth], stddev=0.1))\n",
    "    biases_hidden1 = tf.Variable(tf.zeros([depth]))\n",
    "    weights_hidden2 = tf.Variable(\n",
    "        tf.truncated_normal([patch_size, patch_size, depth, depth], stddev=0.1))\n",
    "    biases_hidden2 = tf.Variable(tf.constant(1.0, shape=[depth]))\n",
    "    weights_hidden3 = tf.Variable(\n",
    "        tf.truncated_normal(\n",
    "            [IMAGE_SIZE // (2 * 2) * IMAGE_SIZE // (2 * 2) * depth, num_hidden], stddev=0.1))\n",
    "    biases_hidden3 = tf.Variable(tf.constant(1.0, shape=[num_hidden]))\n",
    "    weights_output = tf.Variable(\n",
    "        tf.truncated_normal([num_hidden, NUM_LABELS], stddev=0.1))\n",
    "    biases_output = tf.Variable(tf.constant(1.0, shape=[NUM_LABELS]))\n",
    "  \n",
    "    # Model.\n",
    "    def model(data):\n",
    "        conv1 = tf.nn.conv2d(data, weights_hidden1, [1, 2, 2, 1], padding='SAME')\n",
    "        hidden1 = tf.nn.relu(conv1 + biases_hidden1)\n",
    "        conv2 = tf.nn.conv2d(hidden1, weights_hidden2, [1, 2, 2, 1], padding='SAME')\n",
    "        hidden2 = tf.nn.relu(conv2 + biases_hidden2)\n",
    "        shape2 = hidden2.get_shape().as_list()\n",
    "        reshape2 = tf.reshape(hidden2, [shape2[0], shape2[1] * shape2[2] * shape2[3]])\n",
    "        hidden3 = tf.nn.relu(tf.matmul(reshape2, weights_hidden3) + biases_hidden3)\n",
    "        return tf.matmul(hidden3, weights_output) + biases_output\n",
    "  \n",
    "    # Training computation.\n",
    "    score = model(tf_train_dataset)\n",
    "    loss = tf.reduce_mean(\n",
    "        tf.nn.softmax_cross_entropy_with_logits(score, tf_train_labels))\n",
    "    \n",
    "    # Optimizer.\n",
    "    optimizer = tf.train.GradientDescentOptimizer(0.05).minimize(loss)\n",
    "\n",
    "    # Predictions for the training, validation, and test data.\n",
    "    train_prediction = tf.nn.softmax(score)\n",
    "    valid_prediction = tf.nn.softmax(model(tf_valid_dataset))\n",
    "    test_prediction = tf.nn.softmax(model(tf_test_dataset))"
   ]
  },
  {
   "cell_type": "code",
   "execution_count": 7,
   "metadata": {
    "cellView": "both",
    "colab": {
     "autoexec": {
      "startup": false,
      "wait_interval": 0
     },
     "output_extras": [
      {
       "item_id": 37
      }
     ]
    },
    "colab_type": "code",
    "collapsed": false,
    "executionInfo": {
     "elapsed": 63292,
     "status": "ok",
     "timestamp": 1446658966251,
     "user": {
      "color": "",
      "displayName": "",
      "isAnonymous": false,
      "isMe": true,
      "permissionId": "",
      "photoUrl": "",
      "sessionId": "0",
      "userId": ""
     },
     "user_tz": 480
    },
    "id": "noKFb2UovVFR",
    "outputId": "28941338-2ef9-4088-8bd1-44295661e628"
   },
   "outputs": [
    {
     "name": "stdout",
     "output_type": "stream",
     "text": [
      "Initialized\n",
      "Minibatch loss at step 0: 2.867388\n",
      "Minibatch accuracy: 25.0%\n",
      "Validation accuracy: 10.1%\n",
      "Minibatch loss at step 50: 1.946463\n",
      "Minibatch accuracy: 25.0%\n",
      "Validation accuracy: 31.1%\n",
      "Minibatch loss at step 100: 1.133244\n",
      "Minibatch accuracy: 50.0%\n",
      "Validation accuracy: 62.2%\n",
      "Minibatch loss at step 150: 0.531447\n",
      "Minibatch accuracy: 87.5%\n",
      "Validation accuracy: 74.9%\n",
      "Minibatch loss at step 200: 0.953384\n",
      "Minibatch accuracy: 75.0%\n",
      "Validation accuracy: 74.6%\n",
      "Minibatch loss at step 250: 1.171133\n",
      "Minibatch accuracy: 68.8%\n",
      "Validation accuracy: 76.8%\n",
      "Minibatch loss at step 300: 0.319777\n",
      "Minibatch accuracy: 87.5%\n",
      "Validation accuracy: 78.8%\n",
      "Minibatch loss at step 350: 0.586691\n",
      "Minibatch accuracy: 87.5%\n",
      "Validation accuracy: 75.6%\n",
      "Minibatch loss at step 400: 0.349005\n",
      "Minibatch accuracy: 93.8%\n",
      "Validation accuracy: 80.5%\n",
      "Minibatch loss at step 450: 0.832078\n",
      "Minibatch accuracy: 81.2%\n",
      "Validation accuracy: 78.9%\n",
      "Minibatch loss at step 500: 0.635169\n",
      "Minibatch accuracy: 81.2%\n",
      "Validation accuracy: 80.6%\n",
      "Minibatch loss at step 550: 0.801648\n",
      "Minibatch accuracy: 81.2%\n",
      "Validation accuracy: 80.1%\n",
      "Minibatch loss at step 600: 0.326192\n",
      "Minibatch accuracy: 87.5%\n",
      "Validation accuracy: 81.1%\n",
      "Minibatch loss at step 650: 0.918136\n",
      "Minibatch accuracy: 75.0%\n",
      "Validation accuracy: 81.4%\n",
      "Minibatch loss at step 700: 0.909393\n",
      "Minibatch accuracy: 75.0%\n",
      "Validation accuracy: 82.2%\n",
      "Minibatch loss at step 750: 0.063926\n",
      "Minibatch accuracy: 100.0%\n",
      "Validation accuracy: 82.4%\n",
      "Minibatch loss at step 800: 0.624439\n",
      "Minibatch accuracy: 81.2%\n",
      "Validation accuracy: 82.4%\n",
      "Minibatch loss at step 850: 1.083679\n",
      "Minibatch accuracy: 75.0%\n",
      "Validation accuracy: 81.5%\n",
      "Minibatch loss at step 900: 0.611421\n",
      "Minibatch accuracy: 93.8%\n",
      "Validation accuracy: 82.1%\n",
      "Minibatch loss at step 950: 0.652033\n",
      "Minibatch accuracy: 81.2%\n",
      "Validation accuracy: 82.1%\n",
      "Minibatch loss at step 1000: 0.420119\n",
      "Minibatch accuracy: 87.5%\n",
      "Validation accuracy: 82.1%\n",
      "Test accuracy: 89.3%\n"
     ]
    }
   ],
   "source": [
    "with tf.Session(graph=graph) as session:\n",
    "    tf.initialize_all_variables().run()\n",
    "    print('Initialized')\n",
    "    for step in range(num_steps):\n",
    "        offset = (step * batch_size) % (train_labels.shape[0] - batch_size)\n",
    "        batch_data = train_dataset[offset:(offset + batch_size), :, :, :]\n",
    "        batch_labels = train_labels[offset:(offset + batch_size), :]\n",
    "        feed_dict = {tf_train_dataset: batch_data, tf_train_labels: batch_labels}\n",
    "        _, l, predictions = session.run(\n",
    "            [optimizer, loss, train_prediction], feed_dict=feed_dict)\n",
    "        if (step % 50 == 0):\n",
    "            print('Minibatch loss at step %d: %f' % (step, l))\n",
    "            print('Minibatch accuracy: %.1f%%' % accuracy(predictions, batch_labels))\n",
    "            print('Validation accuracy: %.1f%%' % accuracy(\n",
    "                    valid_prediction.eval(), valid_labels))\n",
    "    print('Test accuracy: %.1f%%' % accuracy(test_prediction.eval(), test_labels))"
   ]
  },
  {
   "cell_type": "markdown",
   "metadata": {
    "colab_type": "text",
    "id": "KedKkn4EutIK"
   },
   "source": [
    "---\n",
    "Problem 1\n",
    "---------\n",
    "\n",
    "The convolutional model above uses convolutions with stride 2 to reduce the dimensionality. Replace the strides by a max pooling operation (`nn.max_pool()`) of stride 2 and kernel size 2."
   ]
  },
  {
   "cell_type": "code",
   "execution_count": 9,
   "metadata": {
    "collapsed": true
   },
   "outputs": [],
   "source": [
    "IMAGE_SIZE = 28\n",
    "NUM_LABELS = 10\n",
    "NUM_CHANNELS = 1  # Grayscale\n",
    "batch_size = 16\n",
    "patch_size = 5\n",
    "depth = 16\n",
    "sd = 0.1\n",
    "cv_stride = 1\n",
    "mp_kernel = 2\n",
    "mp_stride = 2\n",
    "num_hidden = 64\n",
    "num_steps = 1501"
   ]
  },
  {
   "cell_type": "code",
   "execution_count": 14,
   "metadata": {
    "collapsed": true
   },
   "outputs": [],
   "source": [
    "graph = tf.Graph()\n",
    "with graph.as_default():\n",
    "    # Input data.\n",
    "    tf_train_x = tf.placeholder(\n",
    "        tf.float32, shape=(batch_size, IMAGE_SIZE, IMAGE_SIZE, NUM_CHANNELS))\n",
    "    tf_train_y_ = tf.placeholder(tf.float32, shape=(batch_size, NUM_LABELS))\n",
    "    tf_valid_x = tf.constant(valid_dataset)\n",
    "    tf_test_x = tf.constant(test_dataset)\n",
    "  \n",
    "    # Variables.\n",
    "    W_hidden1 = tf.Variable(\n",
    "        tf.truncated_normal([patch_size, patch_size, NUM_CHANNELS, depth], stddev=sd))\n",
    "    b_hidden1 = tf.Variable(tf.zeros([depth]))\n",
    "    W_hidden2 = tf.Variable(\n",
    "        tf.truncated_normal([patch_size, patch_size, depth, depth], stddev=sd))\n",
    "    b_hidden2 = tf.Variable(tf.constant(1.0, shape=[depth]))\n",
    "    W_hidden3 = tf.Variable(\n",
    "        tf.truncated_normal(\n",
    "            [IMAGE_SIZE // (mp_kernel * mp_stride) * IMAGE_SIZE // (mp_kernel * mp_stride) * depth, num_hidden], \n",
    "            stddev=sd))\n",
    "    b_hidden3 = tf.Variable(tf.constant(1.0, shape=[num_hidden]))\n",
    "    W_output = tf.Variable(\n",
    "        tf.truncated_normal([num_hidden, NUM_LABELS], stddev=0.1))\n",
    "    b_output = tf.Variable(tf.constant(1.0, shape=[NUM_LABELS]))\n",
    "  \n",
    "    # CNN in vanilla version:\n",
    "    # Our convolutions uses a stride of one and are zero padded so that \n",
    "    # the output is the same size as the input. \n",
    "    # Our pooling is plain old max pooling over 2x2 blocks.\n",
    "    def conv2d(x, W, cv_stride=2):\n",
    "        return tf.nn.conv2d(x, W, strides=[1, cv_stride, cv_stride, 1], padding='SAME')\n",
    "    \n",
    "    def max_pool2d(x, mp_kernel=2, mp_stride=2):\n",
    "        return tf.nn.max_pool(\n",
    "            x, ksize=[1, mp_kernel, mp_kernel, 1], strides=[1, mp_stride, mp_stride, 1], padding='SAME')\n",
    "    \n",
    "    def model(data):\n",
    "        hidden1 = tf.nn.relu(conv2d(data, W_hidden1, cv_stride) + b_hidden1)\n",
    "        hidden1_pool = max_pool2d(hidden1, mp_kernel, mp_stride)\n",
    "        hidden2 = tf.nn.relu(conv2d(hidden1_pool, W_hidden2, cv_stride) + b_hidden2)\n",
    "        hidden2_pool = max_pool2d(hidden2, mp_kernel, mp_stride)\n",
    "        shape2 = hidden2_pool.get_shape().as_list()\n",
    "        reshape2 = tf.reshape(hidden2_pool, [shape2[0], shape2[1] * shape2[2] * shape2[3]])\n",
    "        hidden3 = tf.nn.relu(tf.matmul(reshape2, W_hidden3) + b_hidden3)\n",
    "        return tf.matmul(hidden3, W_output) + b_output\n",
    "  \n",
    "    # Training computation.\n",
    "    score = model(tf_train_x)\n",
    "    loss = tf.reduce_mean(\n",
    "        tf.nn.softmax_cross_entropy_with_logits(score, tf_train_y_))\n",
    "    \n",
    "    # Optimizer.\n",
    "    optimizer = tf.train.GradientDescentOptimizer(0.05).minimize(loss)\n",
    "\n",
    "    # Predictions for the training, validation, and test data.\n",
    "    train_prediction = tf.nn.softmax(score)\n",
    "    valid_prediction = tf.nn.softmax(model(tf_valid_x))\n",
    "    test_prediction = tf.nn.softmax(model(tf_test_x))"
   ]
  },
  {
   "cell_type": "code",
   "execution_count": 15,
   "metadata": {
    "collapsed": false
   },
   "outputs": [
    {
     "name": "stdout",
     "output_type": "stream",
     "text": [
      "Initialized\n",
      "Minibatch loss at step 0: 4.097774\n",
      "Minibatch accuracy: 18.8%\n",
      "Validation accuracy: 10.0%\n",
      "Minibatch loss at step 50: 2.113087\n",
      "Minibatch accuracy: 25.0%\n",
      "Validation accuracy: 23.8%\n",
      "Minibatch loss at step 100: 1.528005\n",
      "Minibatch accuracy: 43.8%\n",
      "Validation accuracy: 48.9%\n",
      "Minibatch loss at step 150: 0.763013\n",
      "Minibatch accuracy: 68.8%\n",
      "Validation accuracy: 70.8%\n",
      "Minibatch loss at step 200: 1.070045\n",
      "Minibatch accuracy: 75.0%\n",
      "Validation accuracy: 75.3%\n",
      "Minibatch loss at step 250: 1.342121\n",
      "Minibatch accuracy: 68.8%\n",
      "Validation accuracy: 75.3%\n",
      "Minibatch loss at step 300: 0.380490\n",
      "Minibatch accuracy: 87.5%\n",
      "Validation accuracy: 79.1%\n",
      "Minibatch loss at step 350: 0.341286\n",
      "Minibatch accuracy: 93.8%\n",
      "Validation accuracy: 76.6%\n",
      "Minibatch loss at step 400: 0.208406\n",
      "Minibatch accuracy: 100.0%\n",
      "Validation accuracy: 80.7%\n",
      "Minibatch loss at step 450: 0.900299\n",
      "Minibatch accuracy: 75.0%\n",
      "Validation accuracy: 78.7%\n",
      "Minibatch loss at step 500: 0.729724\n",
      "Minibatch accuracy: 87.5%\n",
      "Validation accuracy: 80.7%\n",
      "Minibatch loss at step 550: 0.853968\n",
      "Minibatch accuracy: 75.0%\n",
      "Validation accuracy: 81.7%\n",
      "Minibatch loss at step 600: 0.351411\n",
      "Minibatch accuracy: 87.5%\n",
      "Validation accuracy: 81.8%\n",
      "Minibatch loss at step 650: 0.882349\n",
      "Minibatch accuracy: 87.5%\n",
      "Validation accuracy: 82.7%\n",
      "Minibatch loss at step 700: 0.811356\n",
      "Minibatch accuracy: 75.0%\n",
      "Validation accuracy: 82.9%\n",
      "Minibatch loss at step 750: 0.025345\n",
      "Minibatch accuracy: 100.0%\n",
      "Validation accuracy: 83.3%\n",
      "Minibatch loss at step 800: 0.771996\n",
      "Minibatch accuracy: 75.0%\n",
      "Validation accuracy: 82.5%\n",
      "Minibatch loss at step 850: 0.883674\n",
      "Minibatch accuracy: 75.0%\n",
      "Validation accuracy: 83.2%\n",
      "Minibatch loss at step 900: 0.630536\n",
      "Minibatch accuracy: 87.5%\n",
      "Validation accuracy: 83.7%\n",
      "Minibatch loss at step 950: 0.525469\n",
      "Minibatch accuracy: 81.2%\n",
      "Validation accuracy: 83.2%\n",
      "Minibatch loss at step 1000: 0.229211\n",
      "Minibatch accuracy: 93.8%\n",
      "Validation accuracy: 83.8%\n",
      "Minibatch loss at step 1050: 0.419666\n",
      "Minibatch accuracy: 81.2%\n",
      "Validation accuracy: 82.3%\n",
      "Minibatch loss at step 1100: 0.648593\n",
      "Minibatch accuracy: 75.0%\n",
      "Validation accuracy: 83.5%\n",
      "Minibatch loss at step 1150: 0.460037\n",
      "Minibatch accuracy: 81.2%\n",
      "Validation accuracy: 84.2%\n",
      "Minibatch loss at step 1200: 0.905051\n",
      "Minibatch accuracy: 68.8%\n",
      "Validation accuracy: 84.4%\n",
      "Minibatch loss at step 1250: 0.706381\n",
      "Minibatch accuracy: 81.2%\n",
      "Validation accuracy: 84.2%\n",
      "Minibatch loss at step 1300: 0.273439\n",
      "Minibatch accuracy: 93.8%\n",
      "Validation accuracy: 84.0%\n",
      "Minibatch loss at step 1350: 0.870766\n",
      "Minibatch accuracy: 81.2%\n",
      "Validation accuracy: 83.8%\n",
      "Minibatch loss at step 1400: 0.406103\n",
      "Minibatch accuracy: 87.5%\n",
      "Validation accuracy: 84.9%\n",
      "Minibatch loss at step 1450: 0.233285\n",
      "Minibatch accuracy: 93.8%\n",
      "Validation accuracy: 85.3%\n",
      "Minibatch loss at step 1500: 0.455258\n",
      "Minibatch accuracy: 81.2%\n",
      "Validation accuracy: 84.8%\n",
      "Test accuracy: 91.6%\n"
     ]
    }
   ],
   "source": [
    "with tf.Session(graph=graph) as session:\n",
    "    tf.initialize_all_variables().run()\n",
    "    print('Initialized')\n",
    "    for step in range(num_steps):\n",
    "        offset = (step * batch_size) % (train_labels.shape[0] - batch_size)\n",
    "        batch_data = train_dataset[offset:(offset + batch_size), :, :, :]\n",
    "        batch_labels = train_labels[offset:(offset + batch_size), :]\n",
    "        feed_dict = {tf_train_x: batch_data, tf_train_y_: batch_labels}\n",
    "        _, l, predictions = session.run(\n",
    "            [optimizer, loss, train_prediction], feed_dict=feed_dict)\n",
    "        if (step % 50 == 0):\n",
    "            print('Minibatch loss at step %d: %f' % (step, l))\n",
    "            print('Minibatch accuracy: %.1f%%' % accuracy(predictions, batch_labels))\n",
    "            print('Validation accuracy: %.1f%%' % accuracy(\n",
    "                    valid_prediction.eval(), valid_labels))\n",
    "    print('Test accuracy: %.1f%%' % accuracy(test_prediction.eval(), test_labels))"
   ]
  },
  {
   "cell_type": "markdown",
   "metadata": {
    "colab_type": "text",
    "id": "klf21gpbAgb-"
   },
   "source": [
    "---\n",
    "Problem 2\n",
    "---------\n",
    "\n",
    "Try to get the best performance you can using a convolutional net. Look for example at the classic [LeNet5](http://yann.lecun.com/exdb/lenet/) architecture, adding Dropout, and/or adding learning rate decay."
   ]
  },
  {
   "cell_type": "code",
   "execution_count": null,
   "metadata": {
    "collapsed": true
   },
   "outputs": [],
   "source": []
  }
 ],
 "metadata": {
  "colab": {
   "default_view": {},
   "name": "4_convolutions.ipynb",
   "provenance": [],
   "version": "0.3.2",
   "views": {}
  },
  "kernelspec": {
   "display_name": "Python 2",
   "language": "python",
   "name": "python2"
  },
  "language_info": {
   "codemirror_mode": {
    "name": "ipython",
    "version": 2
   },
   "file_extension": ".py",
   "mimetype": "text/x-python",
   "name": "python",
   "nbconvert_exporter": "python",
   "pygments_lexer": "ipython2",
   "version": "2.7.12"
  }
 },
 "nbformat": 4,
 "nbformat_minor": 0
}
